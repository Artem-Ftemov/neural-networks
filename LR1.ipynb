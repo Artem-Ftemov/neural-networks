{
 "cells": [
  {
   "attachments": {},
   "cell_type": "markdown",
   "metadata": {},
   "source": [
    "Створюємо клас Students:"
   ]
  },
  {
   "cell_type": "code",
   "execution_count": 47,
   "metadata": {},
   "outputs": [],
   "source": [
    "class Student:\n",
    "    def __init__(self, fio: str, group: str, rating: float) -> None:\n",
    "        '''Конструктор класу Student'''\n",
    "        self.fio = fio\n",
    "        self.group = group\n",
    "        self.rating = rating\n",
    "    \n",
    "    def get_fio(self) -> str:\n",
    "        '''Гетер ФІО'''\n",
    "        return self.fio\n",
    "    \n",
    "    def get_group(self) -> str:\n",
    "        '''Гетер групи'''\n",
    "        return self.group\n",
    "    \n",
    "    def get_rating(self) -> float:\n",
    "        '''Гетер рейтингу'''\n",
    "        return self.rating"
   ]
  },
  {
   "attachments": {},
   "cell_type": "markdown",
   "metadata": {},
   "source": [
    "Створюємо клас Students, який буде реалізувати функції CRUD операції та виведення інформації про студентів:"
   ]
  },
  {
   "cell_type": "code",
   "execution_count": 48,
   "metadata": {},
   "outputs": [],
   "source": [
    "from typing import Union\n",
    "\n",
    "class Students:\n",
    "    students = []\n",
    "\n",
    "    def __init__(self, students: list = []):\n",
    "        '''Конструктор класу Students'''\n",
    "        self.students = students\n",
    "\n",
    "    def add(self, student: Student) -> None:\n",
    "        '''Сеттер додавання студента'''\n",
    "        self.students.append(student)\n",
    "\n",
    "    def get(self, fio: str) -> Union[Student, None]:\n",
    "        '''Геттер студента'''\n",
    "        for student in self.students:\n",
    "            if student.get_fio() == fio:\n",
    "                return student\n",
    "        return None\n",
    "    \n",
    "    def remove(self, fio) -> bool:\n",
    "        '''Видалення студента'''\n",
    "        for student in self.students:\n",
    "            if student.get_fio() == fio:\n",
    "                self.students.remove(student)\n",
    "                return True\n",
    "        return False\n",
    "    \n",
    "    def get_all(self) -> list[Student]:\n",
    "        '''Отримати всіх студентів'''\n",
    "        return self.students\n",
    "    \n",
    "    def print(self, fio) -> None:\n",
    "        '''Вивести певного студента'''\n",
    "        student = self.get(fio)\n",
    "\n",
    "        self._print_student(student)\n",
    "\n",
    "    def print_all(self) -> None:\n",
    "        '''Вивести усіх студентів'''\n",
    "        for student in self.students:\n",
    "            self._print_student(student)\n",
    "    \n",
    "    def get_best(self) -> Union[Student, None]:\n",
    "        '''Отримати найкращого студента'''\n",
    "        if not self.students:\n",
    "            return None\n",
    "        \n",
    "        best_student = self.students[0]\n",
    "\n",
    "        for student in self.students:\n",
    "            if student.get_rating() > best_student.get_rating():\n",
    "                best_student = student\n",
    "        \n",
    "        return best_student\n",
    "    \n",
    "    def print_best(self) -> None:\n",
    "        '''Вивести найкращого студента'''\n",
    "        best_student = self.get_best()\n",
    "        self._print_student(best_student)\n",
    "    \n",
    "    def _print_student(self, student):\n",
    "        '''Вивести студента'''\n",
    "        print(f\"Name: {student.get_fio()}\")\n",
    "        print(f\"Group: {student.get_group()}\")\n",
    "        print(f\"Rating: {student.get_rating()}\")\n",
    "        self._print_separator()\n",
    "\n",
    "    def _print_separator(self):\n",
    "        '''Виведення сепаратора-роздільника'''\n",
    "        print(f\"-------------------------------\")"
   ]
  },
  {
   "attachments": {},
   "cell_type": "markdown",
   "metadata": {},
   "source": [
    "Створюємо екземпляр класу Students та передаємо у конструктор масив зі студентами:"
   ]
  },
  {
   "cell_type": "code",
   "execution_count": 49,
   "metadata": {},
   "outputs": [],
   "source": [
    "students = Students([\n",
    "    Student('Vira', 'LA-p01', 80.0),\n",
    "    Student('Danilo', 'LA-92', 90.0),\n",
    "    Student('Vitek', 'LA-p01', 100.0),\n",
    "])"
   ]
  },
  {
   "attachments": {},
   "cell_type": "markdown",
   "metadata": {},
   "source": [
    "Виводимо усіх студентів:"
   ]
  },
  {
   "cell_type": "code",
   "execution_count": 50,
   "metadata": {},
   "outputs": [
    {
     "name": "stdout",
     "output_type": "stream",
     "text": [
      "All students:\n",
      "Name: Vira\n",
      "Group: LA-p01\n",
      "Rating: 80.0\n",
      "-------------------------------\n",
      "Name: Danilo\n",
      "Group: LA-92\n",
      "Rating: 90.0\n",
      "-------------------------------\n",
      "Name: Vitek\n",
      "Group: LA-p01\n",
      "Rating: 100.0\n",
      "-------------------------------\n"
     ]
    }
   ],
   "source": [
    "print(\"All students:\")\n",
    "students.print_all()"
   ]
  },
  {
   "attachments": {},
   "cell_type": "markdown",
   "metadata": {},
   "source": [
    "Виводимо найкращого студента:"
   ]
  },
  {
   "cell_type": "code",
   "execution_count": 51,
   "metadata": {},
   "outputs": [
    {
     "name": "stdout",
     "output_type": "stream",
     "text": [
      "\u001b[93m\n",
      "Best student is:\n",
      "Name: Vitek\n",
      "Group: LA-p01\n",
      "Rating: 100.0\n",
      "-------------------------------\n"
     ]
    }
   ],
   "source": [
    "print(\"\\033[93m\") #вказуємо колір тексту виведення\n",
    "print(\"Best student is:\")\n",
    "students.print_best()"
   ]
  }
 ],
 "metadata": {
  "kernelspec": {
   "display_name": ".venv",
   "language": "python",
   "name": "python3"
  },
  "language_info": {
   "codemirror_mode": {
    "name": "ipython",
    "version": 3
   },
   "file_extension": ".py",
   "mimetype": "text/x-python",
   "name": "python",
   "nbconvert_exporter": "python",
   "pygments_lexer": "ipython3",
   "version": "3.11.3"
  },
  "orig_nbformat": 4
 },
 "nbformat": 4,
 "nbformat_minor": 2
}
